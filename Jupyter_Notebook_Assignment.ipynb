{
  "metadata": {
    "kernelspec": {
      "name": "python",
      "display_name": "Pyolite",
      "language": "python"
    },
    "language_info": {
      "codemirror_mode": {
        "name": "python",
        "version": 3
      },
      "file_extension": ".py",
      "mimetype": "text/x-python",
      "name": "python",
      "nbconvert_exporter": "python",
      "pygments_lexer": "ipython3",
      "version": "3.8"
    }
  },
  "nbformat_minor": 4,
  "nbformat": 4,
  "cells": [
    {
      "cell_type": "markdown",
      "source": "<center>\n    <img src=\"https://s3-api.us-geo.objectstorage.softlayer.net/cf-courses-data/CognitiveClass/Logos/organization_logo/organization_logo.png\" width=\"300\" alt=\"cognitiveclass.ai logo\"  />\n</center>\n",
      "metadata": {}
    },
    {
      "cell_type": "markdown",
      "source": "# My Jupyter Notebook on IBM Watson Studio",
      "metadata": {}
    },
    {
      "cell_type": "markdown",
      "source": "**Alexis Dirakis**\n\nMy desired occupation would be data scientist.",
      "metadata": {}
    },
    {
      "cell_type": "markdown",
      "source": "*I am interested in data science because it has the power to deeply improve knowledge by investigating phenomena with revolutionary tools.*",
      "metadata": {}
    },
    {
      "cell_type": "markdown",
      "source": "### In Cell 5 (the following one) my code will use the \"if\" fonction to find out if there is a specific word in a string.",
      "metadata": {}
    },
    {
      "cell_type": "code",
      "source": "text = \"Is the reviewer a nice person?\"\nif \"nice\" in text:\n    print (\"Of course the reviewer is nice person!\")",
      "metadata": {},
      "execution_count": 13,
      "outputs": [
        {
          "name": "stdout",
          "output_type": "stream",
          "text": "Of course the reviewer is nice person!\n"
        }
      ]
    },
    {
      "cell_type": "markdown",
      "source": "1) Hyperlink:<br>\nAs search engine I used [Duck Duck Go](https://duckduckgo.com)",
      "metadata": {}
    },
    {
      "cell_type": "markdown",
      "source": "2) Numbered list:\n1. First item\n2. Second item\n3. Third item\n4. Fourth item",
      "metadata": {}
    },
    {
      "cell_type": "markdown",
      "source": "3) Strikethrough:<br>\n~~Strikethrough~~",
      "metadata": {}
    }
  ]
}